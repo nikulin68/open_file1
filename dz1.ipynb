{
 "cells": [
  {
   "cell_type": "code",
   "execution_count": 8,
   "metadata": {},
   "outputs": [
    {
     "name": "stdout",
     "output_type": "stream",
     "text": [
      "[PosixPath('.DS_Store'), PosixPath('rewrite_file.txt'), PosixPath('sorted'), PosixPath('dz1.ipynb')]\n"
     ]
    }
   ],
   "source": [
    "from pathlib import Path\n",
    "\n",
    "path = './sorted'\n",
    "outout_file = './rewrite_file.txt'\n",
    "\n",
    "\n",
    "def rewrite_file(dir_path, out_file):\n",
    "    directory = Path(dir_path)\n",
    "    book = {}\n",
    "    for file in directory.iterdir():\n",
    "        if file.suffix != \".txt\":\n",
    "            continue\n",
    "        with open(file.resolve(), 'r', encoding='utf-8') as f:  \n",
    "            book [str(file.name)] = f.read().splitlines(True)\n",
    "            file_list = list(book.items())\n",
    "            sorted_list = sorted(file_list, key=lambda x:len(x[1]))     \n",
    "        with open(out_file, 'w', encoding='utf-8') as f_total:\n",
    "            for name, content in sorted_list:\n",
    "                f_total.write(name + '\\n')\n",
    "                f_total.write(str(len(content)) + '\\n')\n",
    "                f_total.writelines(content)\n",
    "                f_total.write('\\n')\n",
    "print(list(Path(\"./\").iterdir()))\n",
    "rewrite_file(path, outout_file )    \n"
   ]
  }
 ],
 "metadata": {
  "interpreter": {
   "hash": "31f2aee4e71d21fbe5cf8b01ff0e069b9275f58929596ceb00d14d90e3e16cd6"
  },
  "kernelspec": {
   "display_name": "Python 3.8.9 64-bit",
   "language": "python",
   "name": "python3"
  },
  "language_info": {
   "codemirror_mode": {
    "name": "ipython",
    "version": 3
   },
   "file_extension": ".py",
   "mimetype": "text/x-python",
   "name": "python",
   "nbconvert_exporter": "python",
   "pygments_lexer": "ipython3",
   "version": "3.8.9"
  },
  "orig_nbformat": 4
 },
 "nbformat": 4,
 "nbformat_minor": 2
}
